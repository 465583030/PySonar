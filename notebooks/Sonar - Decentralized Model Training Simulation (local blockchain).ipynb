{
 "cells": [
  {
   "cell_type": "markdown",
   "metadata": {},
   "source": [
    "# Sonar - Decentralized Model Training Simulation (local)\n",
    "\n",
    "DISCLAIMER: This is a proof-of-concept implementation. It does not represent a remotely product ready implementation or follow proper conventions for security, convenience, or scalability. It is part of a broader proof-of-concept demonstrating the vision of the OpenMined project, its major moving parts, and how they might work together.\n"
   ]
  },
  {
   "cell_type": "markdown",
   "metadata": {},
   "source": [
    "# Getting Started: Installation\n",
    "\n",
    "##### Step 1: install IPFS\n",
    "\n",
    "- https://ipfs.io/docs/install/\n",
    "\n",
    "##### Step 2: Turn on IPFS Daemon\n",
    "Execute on command line:\n",
    "> ipfs daemon\n",
    "\n",
    "##### Step 3: Install Ethereum testrpc\n",
    "\n",
    "- https://github.com/ethereumjs/testrpc\n",
    "\n",
    "##### Step 4: Turn on testrpc with 1000 initialized accounts (each with some money)\n",
    "Execute on command line:\n",
    "> testrpc -a 1000\n",
    "\n",
    "##### Step 5: install openmined/sonar and all dependencies\n",
    "##### Step 6: execute the following code"
   ]
  },
  {
   "cell_type": "markdown",
   "metadata": {},
   "source": [
    "# The Simulation: Diabetes Prediction"
   ]
  },
  {
   "cell_type": "markdown",
   "metadata": {},
   "source": [
    "In this example, a diabetes research center (Cure Diabetes Inc) wants to train a model to try to predict the progression of diabetes based on several indicators. They have collected a small sample (42 patients) of data but it's not enough to train a model. So, they intend to offer up a bounty of $5,000 to the OpenMined commmunity to train a high quality model.\n",
    "\n",
    "As it turns out, there are 400 diabetics in the network who are candidates for the model (are collecting the relevant fields). In this simulation, we're going to faciliate the training of Cure Diabetes Inc incentivizing these 400 anonymous contributors to train the model using the Ethereum blockchain.\n",
    "\n",
    "Note, in this simulation we're only going to use the sonar and syft packages (and everything is going to be deployed locally on a test blockchain). Future simulations will incorporate mine and capsule for greater anonymity and automation."
   ]
  },
  {
   "cell_type": "markdown",
   "metadata": {},
   "source": [
    "### Imports and Convenience Functions"
   ]
  },
  {
   "cell_type": "code",
   "execution_count": 1,
   "metadata": {
    "collapsed": true
   },
   "outputs": [],
   "source": [
    "import warnings\n",
    "import numpy as np\n",
    "import phe as paillier\n",
    "from sonar.contracts import ModelRepository,Model\n",
    "from syft.he.Paillier import KeyPair\n",
    "from syft.nn.linear import LinearClassifier\n",
    "import numpy as np\n",
    "from sklearn.datasets import load_diabetes\n",
    "\n",
    "def get_balance(account):\n",
    "    return repo.web3.fromWei(repo.web3.eth.getBalance(account),'ether')"
   ]
  },
  {
   "cell_type": "markdown",
   "metadata": {},
   "source": [
    "### Setting up the Experiment"
   ]
  },
  {
   "cell_type": "code",
   "execution_count": 2,
   "metadata": {},
   "outputs": [
    {
     "name": "stdout",
     "output_type": "stream",
     "text": [
      "No account submitted... using default[2]\n",
      "Deployed ModelRepository:0x79c8d937ac7ce82166e3d0c225b9313e1910d18b17cc632cad13d4f46103d732\n"
     ]
    }
   ],
   "source": [
    "# for the purpose of the simulation, we're going to split our dataset up amongst\n",
    "# the relevant simulated users\n",
    "\n",
    "diabetes = load_diabetes()\n",
    "y = diabetes.target\n",
    "X = diabetes.data\n",
    "\n",
    "validation = (X[0:42],y[0:42])\n",
    "anonymous_diabetes_users = (X[42:],y[42:])\n",
    "\n",
    "# we're also going to initialize the model trainer smart contract, which in the\n",
    "# real world would already be on the blockchain (managing other contracts) before\n",
    "# the simulation begins\n",
    "\n",
    "repo = ModelRepository() # blockchain hosted model repository\n",
    "\n",
    "# we're going to set aside 400 accounts for our 400 patients\n",
    "# Let's go ahead and pair each data point with each patient's \n",
    "# address so that we know we don't get them confused\n",
    "patient_addresses = repo.web3.eth.accounts[100:500]\n",
    "anonymous_diabetics = list(zip(patient_addresses,\n",
    "                               anonymous_diabetes_users[0],\n",
    "                               anonymous_diabetes_users[1]))\n",
    "\n",
    "# we're going to set aside 1 account for Cure Diabetes Inc\n",
    "cure_diabetes_inc = repo.web3.eth.accounts[501]"
   ]
  },
  {
   "cell_type": "markdown",
   "metadata": {},
   "source": [
    "### Step 1: Cure Diabetes Inc Initializes a Model and Provides a Bounty"
   ]
  },
  {
   "cell_type": "code",
   "execution_count": 3,
   "metadata": {
    "collapsed": true
   },
   "outputs": [],
   "source": [
    "warnings.filterwarnings('ignore')"
   ]
  },
  {
   "cell_type": "code",
   "execution_count": 4,
   "metadata": {
    "collapsed": true
   },
   "outputs": [],
   "source": [
    "bounty = 0.001 # 5 metacoins"
   ]
  },
  {
   "cell_type": "code",
   "execution_count": 5,
   "metadata": {},
   "outputs": [
    {
     "data": {
      "text/plain": [
       "Decimal('89.985999999997328513')"
      ]
     },
     "execution_count": 5,
     "metadata": {},
     "output_type": "execute_result"
    }
   ],
   "source": [
    "# current balance of Cure Diabetes Inc\n",
    "get_balance(cure_diabetes_inc)"
   ]
  },
  {
   "cell_type": "code",
   "execution_count": 6,
   "metadata": {},
   "outputs": [],
   "source": [
    "pubkey,prikey = KeyPair().generate(n_length=1024)\n",
    "diabetes_classifier = LinearClassifier(desc=\"DiabetesClassifier\",n_inputs=10,n_labels=1)\n",
    "initial_error = diabetes_classifier.evaluate(validation[0],validation[1])\n",
    "diabetes_classifier.encrypt(pubkey)\n",
    "\n",
    "diabetes_model = Model(owner=cure_diabetes_inc,\n",
    "                       syft_obj = diabetes_classifier,\n",
    "                       bounty = bounty,\n",
    "                       initial_error = initial_error,\n",
    "                       target_error = 10000\n",
    "                      )"
   ]
  },
  {
   "cell_type": "code",
   "execution_count": 7,
   "metadata": {},
   "outputs": [],
   "source": [
    "model_id = repo.submit_model(diabetes_model)"
   ]
  },
  {
   "cell_type": "code",
   "execution_count": 8,
   "metadata": {},
   "outputs": [
    {
     "data": {
      "text/plain": [
       "Decimal('89.984999999997160961')"
      ]
     },
     "execution_count": 8,
     "metadata": {},
     "output_type": "execute_result"
    }
   ],
   "source": [
    "# notice that the current balance of Cure Diabetes Inc goes down by the size of the bounty + gas\n",
    "get_balance(cure_diabetes_inc)"
   ]
  },
  {
   "cell_type": "markdown",
   "metadata": {},
   "source": [
    "## Step 2: An Anonymous Patient Downloads the Model and Improves It"
   ]
  },
  {
   "cell_type": "code",
   "execution_count": 9,
   "metadata": {},
   "outputs": [],
   "source": [
    "patient = anonymous_diabetics[0]\n",
    "\n",
    "addr,input,target = patient\n",
    "get_balance(addr)\n",
    "\n",
    "encrypted_diabetes_model = repo[model_id]"
   ]
  },
  {
   "cell_type": "code",
   "execution_count": 10,
   "metadata": {},
   "outputs": [],
   "source": [
    "grad = encrypted_diabetes_model.generate_gradient(input,target)\n",
    "grad_id = repo.submit_gradient(addr,model_id,grad)"
   ]
  },
  {
   "cell_type": "markdown",
   "metadata": {},
   "source": [
    "## Step 3: Cure Diabetes Inc. Evaluates the Gradient "
   ]
  },
  {
   "cell_type": "code",
   "execution_count": 11,
   "metadata": {},
   "outputs": [],
   "source": [
    "diabetes_model = repo[model_id]"
   ]
  },
  {
   "cell_type": "code",
   "execution_count": 19,
   "metadata": {},
   "outputs": [],
   "source": [
    "g = diabetes_model[0]"
   ]
  },
  {
   "cell_type": "code",
   "execution_count": 21,
   "metadata": {},
   "outputs": [
    {
     "data": {
      "text/plain": [
       "<sonar.contracts.Gradient at 0x11519f2b0>"
      ]
     },
     "execution_count": 21,
     "metadata": {},
     "output_type": "execute_result"
    }
   ],
   "source": [
    "g"
   ]
  },
  {
   "cell_type": "code",
   "execution_count": 22,
   "metadata": {},
   "outputs": [
    {
     "data": {
      "text/plain": [
       "['0x076ecdd7a2e917644b450da2df38d9342c28fe70',\n",
       " ['QmYRizTGmrcV2YENgFknzvAjvSDrw4vx',\n",
       "  'CEjRu4odK8sPb4\\x00\\x00\\x00\\x00\\x00\\x00\\x00\\x00\\x00\\x00\\x00\\x00\\x00\\x00\\x00\\x00\\x00\\x00']]"
      ]
     },
     "execution_count": 22,
     "metadata": {},
     "output_type": "execute_result"
    }
   ],
   "source": [
    "repo.call.getGradient(0,0)"
   ]
  },
  {
   "cell_type": "code",
   "execution_count": null,
   "metadata": {
    "collapsed": true
   },
   "outputs": [],
   "source": []
  }
 ],
 "metadata": {
  "kernelspec": {
   "display_name": "Python 3",
   "language": "python",
   "name": "python3"
  },
  "language_info": {
   "codemirror_mode": {
    "name": "ipython",
    "version": 3
   },
   "file_extension": ".py",
   "mimetype": "text/x-python",
   "name": "python",
   "nbconvert_exporter": "python",
   "pygments_lexer": "ipython3",
   "version": "3.6.1"
  }
 },
 "nbformat": 4,
 "nbformat_minor": 2
}
