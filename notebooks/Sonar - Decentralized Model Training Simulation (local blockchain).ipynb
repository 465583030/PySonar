{
 "cells": [
  {
   "cell_type": "markdown",
   "metadata": {},
   "source": [
    "# Sonar - Decentralized Model Training Simulation (local)\n",
    "\n",
    "DISCLAIMER: This is a proof-of-concept implementation. It does not represent a remotely product ready implementation or follow proper conventions for security, convenience, or scalability. It is part of a broader proof-of-concept demonstrating the vision of the OpenMined project, its major moving parts, and how they might work together.\n"
   ]
  },
  {
   "cell_type": "markdown",
   "metadata": {},
   "source": [
    "# Getting Started: Installation\n",
    "\n",
    "##### Step 1: install IPFS\n",
    "\n",
    "- https://ipfs.io/docs/install/\n",
    "\n",
    "##### Step 2: Turn on IPFS Daemon\n",
    "Execute on command line:\n",
    "> ipfs daemon\n",
    "\n",
    "##### Step 3: Install Ethereum testrpc\n",
    "\n",
    "- https://github.com/ethereumjs/testrpc\n",
    "\n",
    "##### Step 4: Turn on testrpc with 1000 initialized accounts (each with some money)\n",
    "Execute on command line:\n",
    "> testrpc -a 1000\n",
    "\n",
    "##### Step 5: install openmined/sonar and all dependencies\n",
    "##### Step 6: execute the following code"
   ]
  },
  {
   "cell_type": "markdown",
   "metadata": {},
   "source": [
    "# The Simulation: Diabetes Prediction"
   ]
  },
  {
   "cell_type": "markdown",
   "metadata": {},
   "source": [
    "In this example, a diabetes research center (Cure Diabetes Inc) wants to train a model to try to predict the progression of diabetes based on several indicators. They have collected a small sample (42 patients) of data but it's not enough to train a model. So, they intend to offer up a bounty of $5,000 to the OpenMined commmunity to train a high quality model.\n",
    "\n",
    "As it turns out, there are 400 diabetics in the network who are candidates for the model (are collecting the relevant fields). In this simulation, we're going to faciliate the training of Cure Diabetes Inc incentivizing these 400 anonymous contributors to train the model using the Ethereum blockchain.\n",
    "\n",
    "Note, in this simulation we're only going to use the sonar and syft packages (and everything is going to be deployed locally on a test blockchain). Future simulations will incorporate mine and capsule for greater anonymity and automation."
   ]
  },
  {
   "cell_type": "markdown",
   "metadata": {},
   "source": [
    "### Imports and Convenience Functions"
   ]
  },
  {
   "cell_type": "code",
   "execution_count": 1,
   "metadata": {
    "collapsed": true
   },
   "outputs": [],
   "source": [
    "import warnings\n",
    "import numpy as np\n",
    "import phe as paillier\n",
    "from sonar.contracts import ModelRepository,Model\n",
    "from syft.he.Paillier import KeyPair\n",
    "from syft.nn.linear import LinearClassifier\n",
    "import numpy as np\n",
    "from sklearn.datasets import load_diabetes\n",
    "\n",
    "def get_balance(account):\n",
    "    return repo.web3.fromWei(repo.web3.eth.getBalance(account),'ether')\n",
    "\n",
    "warnings.filterwarnings('ignore')"
   ]
  },
  {
   "cell_type": "markdown",
   "metadata": {},
   "source": [
    "### Setting up the Experiment"
   ]
  },
  {
   "cell_type": "code",
   "execution_count": 2,
   "metadata": {},
   "outputs": [
    {
     "name": "stdout",
     "output_type": "stream",
     "text": [
      "No account submitted... using default[2]\n",
      "Deployed ModelRepository:0xb811aeafff1f6f0bd39b07f21a1e57cc64c6e8770b4b9b1133eaea154de66a9d\n"
     ]
    }
   ],
   "source": [
    "# for the purpose of the simulation, we're going to split our dataset up amongst\n",
    "# the relevant simulated users\n",
    "\n",
    "diabetes = load_diabetes()\n",
    "y = diabetes.target\n",
    "X = diabetes.data\n",
    "\n",
    "validation = (X[0:42],y[0:42])\n",
    "anonymous_diabetes_users = (X[42:],y[42:])\n",
    "\n",
    "# we're also going to initialize the model trainer smart contract, which in the\n",
    "# real world would already be on the blockchain (managing other contracts) before\n",
    "# the simulation begins\n",
    "\n",
    "repo = ModelRepository() # blockchain hosted model repository\n",
    "\n",
    "# we're going to set aside 400 accounts for our 400 patients\n",
    "# Let's go ahead and pair each data point with each patient's \n",
    "# address so that we know we don't get them confused\n",
    "patient_addresses = repo.web3.eth.accounts[100:500]\n",
    "anonymous_diabetics = list(zip(patient_addresses,\n",
    "                               anonymous_diabetes_users[0],\n",
    "                               anonymous_diabetes_users[1]))\n",
    "\n",
    "# we're going to set aside 1 account for Cure Diabetes Inc\n",
    "cure_diabetes_inc = repo.web3.eth.accounts[501]"
   ]
  },
  {
   "cell_type": "markdown",
   "metadata": {},
   "source": [
    "## Step 1: Cure Diabetes Inc Initializes a Model and Provides a Bounty"
   ]
  },
  {
   "cell_type": "code",
   "execution_count": 3,
   "metadata": {},
   "outputs": [],
   "source": [
    "pubkey,prikey = KeyPair().generate(n_length=1024)\n",
    "diabetes_classifier = LinearClassifier(desc=\"DiabetesClassifier\",n_inputs=10,n_labels=1)\n",
    "initial_error = diabetes_classifier.evaluate(validation[0],validation[1])\n",
    "diabetes_classifier.encrypt(pubkey)\n",
    "\n",
    "diabetes_model = Model(owner=cure_diabetes_inc,\n",
    "                       syft_obj = diabetes_classifier,\n",
    "                       bounty = 0.001,\n",
    "                       initial_error = initial_error,\n",
    "                       target_error = 10000\n",
    "                      )\n",
    "model_id = repo.submit_model(diabetes_model)"
   ]
  },
  {
   "cell_type": "markdown",
   "metadata": {},
   "source": [
    "## Step 2: An Anonymous Patient Downloads the Model and Improves It"
   ]
  },
  {
   "cell_type": "code",
   "execution_count": 4,
   "metadata": {},
   "outputs": [],
   "source": [
    "diabetic_address,input_data,target_data = anonymous_diabetics[0]\n",
    "repo[model_id].submit_gradient(diabetic_address,input_data,target_data)"
   ]
  },
  {
   "cell_type": "markdown",
   "metadata": {},
   "source": [
    "## Step 3: Cure Diabetes Inc. Evaluates the Gradient "
   ]
  },
  {
   "cell_type": "code",
   "execution_count": 5,
   "metadata": {},
   "outputs": [
    {
     "data": {
      "text/plain": [
       "Desc:DiabetesClassifier\n",
       "Owner:0x54d1f5dd32e12c22eff83d24faa3afa604f7de16\n",
       "Bounty:0.001\n",
       "Initial Error:26645642\n",
       "Best Error:None\n",
       "Target Error:10000\n",
       "Model ID:0\n",
       "Num Grads:1"
      ]
     },
     "execution_count": 5,
     "metadata": {},
     "output_type": "execute_result"
    }
   ],
   "source": [
    "repo[model_id]"
   ]
  },
  {
   "cell_type": "code",
   "execution_count": 6,
   "metadata": {},
   "outputs": [],
   "source": [
    "new_error = repo[model_id].evaluate_gradient(cure_diabetes_inc,repo[model_id][0],prikey,pubkey,validation[0],validation[1])"
   ]
  },
  {
   "cell_type": "code",
   "execution_count": 7,
   "metadata": {},
   "outputs": [
    {
     "data": {
      "text/plain": [
       "26623238"
      ]
     },
     "execution_count": 7,
     "metadata": {},
     "output_type": "execute_result"
    }
   ],
   "source": [
    "new_error"
   ]
  },
  {
   "cell_type": "markdown",
   "metadata": {},
   "source": [
    "## Step 4: Rinse and Repeat"
   ]
  },
  {
   "cell_type": "code",
   "execution_count": null,
   "metadata": {},
   "outputs": [
    {
     "name": "stdout",
     "output_type": "stream",
     "text": [
      "26531949\n",
      "26596590\n",
      "26471645\n",
      "26481334\n",
      "26218895\n",
      "26063063\n",
      "26122476\n",
      "26010976\n",
      "25975969\n",
      "25931464\n",
      "25957436\n",
      "25997872\n",
      "25947727\n",
      "25971795\n",
      "25878993\n",
      "25844347\n",
      "25824632\n",
      "25955404\n",
      "25784298\n",
      "25687608\n",
      "25705897\n",
      "25658046\n",
      "25737011\n",
      "25536902\n",
      "25546388\n",
      "25378029\n",
      "25327242\n",
      "25389867\n",
      "25265221\n",
      "25261027\n",
      "25183437\n",
      "25212903\n",
      "25242696\n",
      "25220010\n",
      "25282876\n",
      "25149695\n",
      "25148261\n",
      "25184219\n",
      "25225898\n",
      "25136445\n",
      "25071396\n",
      "25093899\n",
      "25168788\n",
      "25075534\n",
      "25038640\n",
      "25092418\n",
      "25069513\n",
      "25072111\n",
      "25093821\n",
      "25096285\n",
      "24990938\n",
      "25030720\n",
      "25075210\n",
      "25014104\n",
      "24997901\n",
      "24860956\n",
      "24940264\n",
      "24747127\n",
      "24825186\n",
      "24790856\n",
      "24770535\n",
      "24784217\n"
     ]
    }
   ],
   "source": [
    "for i,(addr, input, target) in enumerate(anonymous_diabetics):\n",
    "    model = repo[model_id]\n",
    "    model.submit_gradient(addr,input,target)\n",
    "    new_error = model.evaluate_gradient(cure_diabetes_inc,model[i+1],prikey,pubkey,validation[0],validation[1],alpha=2)\n",
    "    print(new_error)"
   ]
  },
  {
   "cell_type": "code",
   "execution_count": null,
   "metadata": {
    "collapsed": true
   },
   "outputs": [],
   "source": []
  }
 ],
 "metadata": {
  "kernelspec": {
   "display_name": "Python 3",
   "language": "python",
   "name": "python3"
  },
  "language_info": {
   "codemirror_mode": {
    "name": "ipython",
    "version": 3
   },
   "file_extension": ".py",
   "mimetype": "text/x-python",
   "name": "python",
   "nbconvert_exporter": "python",
   "pygments_lexer": "ipython3",
   "version": "3.6.1"
  }
 },
 "nbformat": 4,
 "nbformat_minor": 2
}
