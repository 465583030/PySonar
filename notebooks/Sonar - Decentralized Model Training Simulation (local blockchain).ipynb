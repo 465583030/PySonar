{
 "cells": [
  {
   "cell_type": "markdown",
   "metadata": {},
   "source": [
    "# Sonar - Decentralized Model Training Simulation (local)\n",
    "\n",
    "DISCLAIMER: This is a proof-of-concept implementation. It does not represent a remotely product ready implementation or follow proper conventions for security, convenience, or scalability. It is part of a broader proof-of-concept demonstrating the vision of the OpenMined project, its major moving parts, and how they might work together.\n"
   ]
  },
  {
   "cell_type": "markdown",
   "metadata": {},
   "source": [
    "# Getting Started: Installation\n",
    "\n",
    "##### Step 1: install IPFS\n",
    "\n",
    "- https://ipfs.io/docs/install/\n",
    "\n",
    "##### Step 2: Turn on IPFS Daemon\n",
    "Execute on command line:\n",
    "> ipfs daemon\n",
    "\n",
    "##### Step 3: Install Ethereum testrpc\n",
    "\n",
    "- https://github.com/ethereumjs/testrpc\n",
    "\n",
    "##### Step 4: Turn on testrpc with 1000 initialized accounts (each with some money)\n",
    "Execute on command line:\n",
    "> testrpc -a 1000\n",
    "\n",
    "##### Step 5: install openmined/sonar and all dependencies\n",
    "##### Step 6: execute the following code"
   ]
  },
  {
   "cell_type": "markdown",
   "metadata": {},
   "source": [
    "# The Simulation: Diabetes Prediction"
   ]
  },
  {
   "cell_type": "markdown",
   "metadata": {},
   "source": [
    "In this example, a diabetes research center (Cure Diabetes Inc) wants to train a model to try to predict the progression of diabetes based on several indicators. They have collected a small sample (42 patients) of data but it's not enough to train a model. So, they intend to offer up a bounty of $5,000 to the OpenMined commmunity to train a high quality model.\n",
    "\n",
    "As it turns out, there are 400 diabetics in the network who are candidates for the model (are collecting the relevant fields). In this simulation, we're going to faciliate the training of Cure Diabetes Inc incentivizing these 400 anonymous contributors to train the model using the Ethereum blockchain.\n",
    "\n",
    "Note, in this simulation we're only going to use the sonar and syft packages (and everything is going to be deployed locally on a test blockchain). Future simulations will incorporate mine and capsule for greater anonymity and automation."
   ]
  },
  {
   "cell_type": "markdown",
   "metadata": {},
   "source": [
    "### Setting up the Experiment"
   ]
  },
  {
   "cell_type": "code",
   "execution_count": 1,
   "metadata": {},
   "outputs": [],
   "source": [
    "import numpy as np\n",
    "import phe as paillier\n",
    "from sonar.contracts import ModelMine\n",
    "from syft.he.Paillier import KeyPair\n",
    "from syft.nn.linear import LinearClassifier\n",
    "import numpy as np\n",
    "from sklearn.datasets import load_diabetes"
   ]
  },
  {
   "cell_type": "code",
   "execution_count": 2,
   "metadata": {
    "collapsed": true
   },
   "outputs": [],
   "source": [
    "# for the purpose of the simulation, we're going to split our dataset up amongst\n",
    "# the relevant simulated users\n",
    "\n",
    "diabetes = load_diabetes()\n",
    "y = diabetes.target\n",
    "X = diabetes.data\n",
    "\n",
    "cure_diabetes_validation_dataset = (X[0:42],y[0:42])\n",
    "anonymous_diabetes_users = (X[42:],y[42:])"
   ]
  },
  {
   "cell_type": "code",
   "execution_count": 3,
   "metadata": {},
   "outputs": [
    {
     "name": "stdout",
     "output_type": "stream",
     "text": [
      "No account submitted... using default[2]\n"
     ]
    },
    {
     "name": "stderr",
     "output_type": "stream",
     "text": [
      "/Users/amberedmundson/anaconda/lib/python3.6/site-packages/web3/formatters.py:101: DeprecationWarning: web3.py will no longer default the `from` address to the coinbase account.  Please update your code to either explicitely provide a `from` address or to explicitely populate the `eth.defaultAccount` address.\n",
      "  \"web3.py will no longer default the `from` address to the coinbase \"\n"
     ]
    }
   ],
   "source": [
    "# we're also going to initialize the model trainer smart contract, which in the\n",
    "# real world would already be on the blockchain (managing other contracts) before\n",
    "# the simulation begins\n",
    "\n",
    "mine = ModelMine() # openmined account is default[2]"
   ]
  },
  {
   "cell_type": "code",
   "execution_count": 4,
   "metadata": {},
   "outputs": [
    {
     "name": "stdout",
     "output_type": "stream",
     "text": [
      "['0x496c578d7adb72fecbf82106d85c9e56cdd6dd61', '0x407ae516b28272ecbed1171567bc2ec962c1dcf7', '0x72b0be2a2b59043b62a3714f1b5232c2cb8a7c89', '0xe8e3e3e9d2501774849683d0dca6e8ff434f728a', '0xbbe477fcb70f00d5e0bb74b823f63eb3515fcb68', '0x9d2c093305ab544d102b1d665063451a5b2f583d', '0x932fe90e14a6adcf724409be97eee4fd060183a6', '0x3588232d499a2e8c0b56e13680ccd6607d8814a6', '0x8bf1482155292b55997413cfec3e2bbb166130ba', '0x1008e610d7ea16c8bbd67ad17eb7e18449d169e6']\n"
     ]
    }
   ],
   "source": [
    "# we're going to set aside 400 accounts for our 400 patients\n",
    "patient_addresses = mine.web3.eth.accounts[100:500]\n",
    "print(patient_addresses[0:10])\n",
    "\n",
    "# we're going to set aside 1 account for Cure Diabetes Inc\n",
    "cure_diabetes_inc = mine.web3.eth.accounts[501]"
   ]
  },
  {
   "cell_type": "code",
   "execution_count": 5,
   "metadata": {
    "collapsed": true
   },
   "outputs": [],
   "source": [
    "# Let's go ahead and pair each data point with each patient's address so that we know we don't get them confused\n",
    "anonymous_diabetics = list(zip(patient_addresses,anonymous_diabetes_users[0],anonymous_diabetes_users[1]))"
   ]
  },
  {
   "cell_type": "code",
   "execution_count": 6,
   "metadata": {
    "collapsed": true
   },
   "outputs": [],
   "source": [
    "def get_balance(account):\n",
    "    return mine.web3.fromWei(mine.web3.eth.getBalance(account),'ether')"
   ]
  },
  {
   "cell_type": "markdown",
   "metadata": {},
   "source": [
    "### Step 1: Cure Diabetes Inc Initializes a Model and Provides a Bounty"
   ]
  },
  {
   "cell_type": "code",
   "execution_count": 7,
   "metadata": {
    "collapsed": true
   },
   "outputs": [],
   "source": [
    "bounty = 5.000 # 5 metacoins"
   ]
  },
  {
   "cell_type": "code",
   "execution_count": 8,
   "metadata": {},
   "outputs": [
    {
     "data": {
      "text/plain": [
       "Decimal('74.999999999998972383')"
      ]
     },
     "execution_count": 8,
     "metadata": {},
     "output_type": "execute_result"
    }
   ],
   "source": [
    "# current balance of Cure Diabetes Inc\n",
    "get_balance(cure_diabetes_inc)"
   ]
  },
  {
   "cell_type": "code",
   "execution_count": 9,
   "metadata": {},
   "outputs": [
    {
     "name": "stdout",
     "output_type": "stream",
     "text": [
      "Initial Model Error:26645642\n",
      "Target Error:0\n"
     ]
    }
   ],
   "source": [
    "pubkey,prikey = KeyPair().generate(n_length=1024)\n",
    "diabetes_model = LinearClassifier(desc=\"DiabetesModel\",n_inputs=10,n_labels=1)\n",
    "initial_error = diabetes_model.evaluate(cure_diabetes_validation_dataset[0],cure_diabetes_validation_dataset[1])\n",
    "target_error = 0\n",
    "\n",
    "print(\"Initial Model Error:\" + str(initial_error))\n",
    "print(\"Target Error:\" + str(target_error)) "
   ]
  },
  {
   "cell_type": "code",
   "execution_count": 10,
   "metadata": {},
   "outputs": [],
   "source": [
    "diabetes_model = diabetes_model.encrypt(pubkey)"
   ]
  },
  {
   "cell_type": "code",
   "execution_count": 11,
   "metadata": {},
   "outputs": [
    {
     "name": "stderr",
     "output_type": "stream",
     "text": [
      "/Users/amberedmundson/anaconda/lib/python3.6/site-packages/eth_abi/abi.py:91: DeprecationWarning: Automatic inference of hex encoded data has been deprecated. Please adjust your code to ensure that the data argument for `decode_single` is a byte string\n",
      "  \"Automatic inference of hex encoded data has been deprecated. \"\n"
     ]
    }
   ],
   "source": [
    "model_id = mine.submit_model(cure_diabetes_inc,\n",
    "                             diabetes_model,\n",
    "                             bounty,\n",
    "                             initial_error,\n",
    "                             target_error)"
   ]
  },
  {
   "cell_type": "code",
   "execution_count": 12,
   "metadata": {},
   "outputs": [
    {
     "data": {
      "text/plain": [
       "Decimal('69.99999999999880978')"
      ]
     },
     "execution_count": 12,
     "metadata": {},
     "output_type": "execute_result"
    }
   ],
   "source": [
    "# notice that the current balance of Cure Diabetes Inc goes down by the size of the bounty + gas\n",
    "get_balance(cure_diabetes_inc)"
   ]
  },
  {
   "cell_type": "markdown",
   "metadata": {},
   "source": [
    "## Step 2: An Anonymous Patient Downloads the Model and Improves It"
   ]
  },
  {
   "cell_type": "code",
   "execution_count": 24,
   "metadata": {},
   "outputs": [
    {
     "data": {
      "text/plain": [
       "Decimal('99.999999999998911084')"
      ]
     },
     "execution_count": 24,
     "metadata": {},
     "output_type": "execute_result"
    }
   ],
   "source": [
    "patient = anonymous_diabetics[0]\n",
    "\n",
    "addr,input,target = patient\n",
    "get_balance(addr)"
   ]
  },
  {
   "cell_type": "code",
   "execution_count": 25,
   "metadata": {},
   "outputs": [
    {
     "name": "stderr",
     "output_type": "stream",
     "text": [
      "/Users/amberedmundson/anaconda/lib/python3.6/site-packages/eth_abi/abi.py:91: DeprecationWarning: Automatic inference of hex encoded data has been deprecated. Please adjust your code to ensure that the data argument for `decode_single` is a byte string\n",
      "  \"Automatic inference of hex encoded data has been deprecated. \"\n"
     ]
    }
   ],
   "source": [
    "grad_id = mine.submit_gradient(anonymous_diabetics[0][0],model_id,diabetes_model)"
   ]
  },
  {
   "cell_type": "code",
   "execution_count": null,
   "metadata": {
    "collapsed": true
   },
   "outputs": [],
   "source": []
  },
  {
   "cell_type": "code",
   "execution_count": null,
   "metadata": {
    "collapsed": true
   },
   "outputs": [],
   "source": []
  },
  {
   "cell_type": "code",
   "execution_count": null,
   "metadata": {
    "collapsed": true
   },
   "outputs": [],
   "source": []
  },
  {
   "cell_type": "code",
   "execution_count": 8,
   "metadata": {},
   "outputs": [
    {
     "name": "stderr",
     "output_type": "stream",
     "text": [
      "/Users/amberedmundson/anaconda/lib/python3.6/site-packages/eth_abi/abi.py:91: DeprecationWarning: Automatic inference of hex encoded data has been deprecated. Please adjust your code to ensure that the data argument for `decode_single` is a byte string\n",
      "  \"Automatic inference of hex encoded data has been deprecated. \"\n"
     ]
    },
    {
     "name": "stdout",
     "output_type": "stream",
     "text": [
      "0\n",
      "1\n",
      "2\n",
      "3\n",
      "4\n",
      "5\n",
      "6\n",
      "7\n",
      "8\n",
      "9\n"
     ]
    }
   ],
   "source": [
    "model_client = mine[model_id]\n",
    "\n",
    "for iter in range(10):\n",
    "    print(iter)\n",
    "    model_client.learn([0,0,0,1],np.array([0,1]).astype('float64'))"
   ]
  },
  {
   "cell_type": "code",
   "execution_count": 9,
   "metadata": {},
   "outputs": [
    {
     "name": "stderr",
     "output_type": "stream",
     "text": [
      "/Users/amberedmundson/anaconda/lib/python3.6/site-packages/eth_abi/abi.py:91: DeprecationWarning: Automatic inference of hex encoded data has been deprecated. Please adjust your code to ensure that the data argument for `decode_single` is a byte string\n",
      "  \"Automatic inference of hex encoded data has been deprecated. \"\n"
     ]
    }
   ],
   "source": [
    "updated_id = mine.submit_model(model_client)"
   ]
  },
  {
   "cell_type": "code",
   "execution_count": 10,
   "metadata": {},
   "outputs": [
    {
     "name": "stderr",
     "output_type": "stream",
     "text": [
      "/Users/amberedmundson/anaconda/lib/python3.6/site-packages/eth_abi/abi.py:91: DeprecationWarning: Automatic inference of hex encoded data has been deprecated. Please adjust your code to ensure that the data argument for `decode_single` is a byte string\n",
      "  \"Automatic inference of hex encoded data has been deprecated. \"\n"
     ]
    },
    {
     "data": {
      "text/plain": [
       "array([ 0.        ,  0.99902344])"
      ]
     },
     "execution_count": 10,
     "metadata": {},
     "output_type": "execute_result"
    }
   ],
   "source": [
    "# download newly trained model, decrypt it and predict\n",
    "model_server = mine[updated_id].decrypt(prikey)\n",
    "pred = model_server.forward(input=[0,0,0,1])\n",
    "pred"
   ]
  },
  {
   "cell_type": "code",
   "execution_count": null,
   "metadata": {
    "collapsed": true
   },
   "outputs": [],
   "source": []
  },
  {
   "cell_type": "code",
   "execution_count": null,
   "metadata": {
    "collapsed": true
   },
   "outputs": [],
   "source": []
  }
 ],
 "metadata": {
  "kernelspec": {
   "display_name": "Python 3",
   "language": "python",
   "name": "python3"
  },
  "language_info": {
   "codemirror_mode": {
    "name": "ipython",
    "version": 3
   },
   "file_extension": ".py",
   "mimetype": "text/x-python",
   "name": "python",
   "nbconvert_exporter": "python",
   "pygments_lexer": "ipython3",
   "version": "3.6.1"
  }
 },
 "nbformat": 4,
 "nbformat_minor": 2
}
