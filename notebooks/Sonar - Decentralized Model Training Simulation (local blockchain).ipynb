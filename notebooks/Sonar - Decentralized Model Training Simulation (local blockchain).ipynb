{
 "cells": [
  {
   "cell_type": "markdown",
   "metadata": {},
   "source": [
    "# Sonar - Decentralized Model Training Simulation (local)\n",
    "\n",
    "DISCLAIMER: This is a proof-of-concept implementation. It does not represent a remotely product ready implementation or follow proper conventions for security, convenience, or scalability. It is part of a broader proof-of-concept demonstrating the vision of the OpenMined project, its major moving parts, and how they might work together.\n"
   ]
  },
  {
   "cell_type": "markdown",
   "metadata": {},
   "source": [
    "# Getting Started: Installation\n",
    "\n",
    "##### Step 1: install IPFS\n",
    "\n",
    "- https://ipfs.io/docs/install/\n",
    "\n",
    "##### Step 2: Turn on IPFS Daemon\n",
    "Execute on command line:\n",
    "> ipfs daemon\n",
    "\n",
    "##### Step 3: Install Ethereum testrpc\n",
    "\n",
    "- https://github.com/ethereumjs/testrpc\n",
    "\n",
    "##### Step 4: Turn on testrpc with 1000 initialized accounts (each with some money)\n",
    "Execute on command line:\n",
    "> testrpc -a 1000\n",
    "\n",
    "##### Step 5: install openmined/sonar and all dependencies\n",
    "##### Step 6: execute the following code"
   ]
  },
  {
   "cell_type": "markdown",
   "metadata": {},
   "source": [
    "# The Simulation: Diabetes Prediction"
   ]
  },
  {
   "cell_type": "markdown",
   "metadata": {},
   "source": [
    "In this example, a diabetes research center (Cure Diabetes Inc) wants to train a model to try to predict the progression of diabetes based on several indicators. They have collected a small sample (42 patients) of data but it's not enough to train a model. So, they intend to offer up a bounty of $5,000 to the OpenMined commmunity to train a high quality model.\n",
    "\n",
    "As it turns out, there are 400 diabetics in the network who are candidates for the model (are collecting the relevant fields). In this simulation, we're going to faciliate the training of Cure Diabetes Inc incentivizing these 400 anonymous contributors to train the model using the Ethereum blockchain.\n",
    "\n",
    "Note, in this simulation we're only going to use the sonar and syft packages (and everything is going to be deployed locally on a test blockchain). Future simulations will incorporate mine and capsule for greater anonymity and automation."
   ]
  },
  {
   "cell_type": "markdown",
   "metadata": {},
   "source": [
    "### Imports and Convenience Functions"
   ]
  },
  {
   "cell_type": "code",
   "execution_count": 3,
   "metadata": {
    "collapsed": true
   },
   "outputs": [],
   "source": [
    "import warnings\n",
    "import numpy as np\n",
    "import phe as paillier\n",
    "from sonar.contracts import ModelRepository,Model\n",
    "from syft.he.Paillier import KeyPair\n",
    "from syft.nn.linear import LinearClassifier\n",
    "import numpy as np\n",
    "from sklearn.datasets import load_diabetes\n",
    "\n",
    "def get_balance(account):\n",
    "    return repo.web3.fromWei(repo.web3.eth.getBalance(account),'ether')\n",
    "\n",
    "warnings.filterwarnings('ignore')"
   ]
  },
  {
   "cell_type": "markdown",
   "metadata": {},
   "source": [
    "### Setting up the Experiment"
   ]
  },
  {
   "cell_type": "code",
   "execution_count": 4,
   "metadata": {},
   "outputs": [
    {
     "name": "stdout",
     "output_type": "stream",
     "text": [
      "No account submitted... using default[2]\n",
      "Deployed ModelRepository:0x4d696087c4828bb91e3ef0c42e4ade514e2e01f01360d30521dc656aa3bab4c4\n"
     ]
    }
   ],
   "source": [
    "# for the purpose of the simulation, we're going to split our dataset up amongst\n",
    "# the relevant simulated users\n",
    "\n",
    "diabetes = load_diabetes()\n",
    "y = diabetes.target\n",
    "X = diabetes.data\n",
    "\n",
    "validation = (X[0:42],y[0:42])\n",
    "anonymous_diabetes_users = (X[42:],y[42:])\n",
    "\n",
    "# we're also going to initialize the model trainer smart contract, which in the\n",
    "# real world would already be on the blockchain (managing other contracts) before\n",
    "# the simulation begins\n",
    "\n",
    "repo = ModelRepository() # blockchain hosted model repository\n",
    "\n",
    "# we're going to set aside 400 accounts for our 400 patients\n",
    "# Let's go ahead and pair each data point with each patient's \n",
    "# address so that we know we don't get them confused\n",
    "patient_addresses = repo.web3.eth.accounts[100:500]\n",
    "anonymous_diabetics = list(zip(patient_addresses,\n",
    "                               anonymous_diabetes_users[0],\n",
    "                               anonymous_diabetes_users[1]))\n",
    "\n",
    "# we're going to set aside 1 account for Cure Diabetes Inc\n",
    "cure_diabetes_inc = repo.web3.eth.accounts[501]"
   ]
  },
  {
   "cell_type": "markdown",
   "metadata": {},
   "source": [
    "## Step 1: Cure Diabetes Inc Initializes a Model and Provides a Bounty"
   ]
  },
  {
   "cell_type": "code",
   "execution_count": 5,
   "metadata": {
    "collapsed": true
   },
   "outputs": [],
   "source": [
    "pubkey,prikey = KeyPair().generate(n_length=1024)\n",
    "diabetes_classifier = LinearClassifier(desc=\"DiabetesClassifier\",n_inputs=10,n_labels=1)\n",
    "initial_error = diabetes_classifier.evaluate(validation[0],validation[1])\n",
    "diabetes_classifier.encrypt(pubkey)\n",
    "\n",
    "diabetes_model = Model(owner=cure_diabetes_inc,\n",
    "                       syft_obj = diabetes_classifier,\n",
    "                       bounty = 0.001,\n",
    "                       initial_error = initial_error,\n",
    "                       target_error = 10000\n",
    "                      )\n",
    "model_id = repo.submit_model(diabetes_model)"
   ]
  },
  {
   "cell_type": "markdown",
   "metadata": {},
   "source": [
    "## Step 2: An Anonymous Patient Downloads the Model and Improves It"
   ]
  },
  {
   "cell_type": "code",
   "execution_count": 6,
   "metadata": {},
   "outputs": [
    {
     "data": {
      "text/plain": [
       "0"
      ]
     },
     "execution_count": 6,
     "metadata": {},
     "output_type": "execute_result"
    }
   ],
   "source": [
    "model_id"
   ]
  },
  {
   "cell_type": "code",
   "execution_count": 14,
   "metadata": {},
   "outputs": [],
   "source": [
    "model = repo[model_id]"
   ]
  },
  {
   "cell_type": "code",
   "execution_count": null,
   "metadata": {},
   "outputs": [],
   "source": []
  },
  {
   "cell_type": "code",
   "execution_count": 7,
   "metadata": {
    "collapsed": true
   },
   "outputs": [],
   "source": [
    "diabetic_address,input_data,target_data = anonymous_diabetics[0]"
   ]
  },
  {
   "cell_type": "code",
   "execution_count": 8,
   "metadata": {},
   "outputs": [
    {
     "data": {
      "text/plain": [
       "('0x8527793fb1a7659d3e5ef43e1b61d703c714617d',\n",
       " array([-0.06000263,  0.05068012, -0.0105172 , -0.0148516 , -0.04972731,\n",
       "        -0.02354742, -0.0581274 ,  0.0158583 , -0.00991896, -0.03421455]),\n",
       " 61.0)"
      ]
     },
     "execution_count": 8,
     "metadata": {},
     "output_type": "execute_result"
    }
   ],
   "source": [
    "anonymous_diabetics[0]"
   ]
  },
  {
   "cell_type": "code",
   "execution_count": null,
   "metadata": {
    "collapsed": true
   },
   "outputs": [],
   "source": []
  },
  {
   "cell_type": "code",
   "execution_count": 16,
   "metadata": {
    "collapsed": true
   },
   "outputs": [],
   "source": [
    "repo[model_id].submit_gradient(diabetic_address,input_data,target_data)"
   ]
  },
  {
   "cell_type": "code",
   "execution_count": 19,
   "metadata": {},
   "outputs": [],
   "source": [
    "grad = model[0]"
   ]
  },
  {
   "cell_type": "code",
   "execution_count": 23,
   "metadata": {
    "collapsed": true
   },
   "outputs": [],
   "source": []
  },
  {
   "cell_type": "code",
   "execution_count": 21,
   "metadata": {},
   "outputs": [
    {
     "data": {
      "text/plain": [
       "array([[e],\n",
       "       [e],\n",
       "       [e],\n",
       "       [e],\n",
       "       [e],\n",
       "       [e],\n",
       "       [e],\n",
       "       [e],\n",
       "       [e],\n",
       "       [e]], dtype=object)"
      ]
     },
     "execution_count": 21,
     "metadata": {},
     "output_type": "execute_result"
    }
   ],
   "source": [
    "grad.grad_values"
   ]
  },
  {
   "cell_type": "markdown",
   "metadata": {},
   "source": [
    "## Step 3: Cure Diabetes Inc. Evaluates the Gradient "
   ]
  },
  {
   "cell_type": "code",
   "execution_count": 24,
   "metadata": {},
   "outputs": [
    {
     "data": {
      "text/plain": [
       "Desc:DiabetesClassifier\n",
       "Owner:0x08b4fdf5c8c0aa731746d431183d79a5efd405a5\n",
       "Bounty:0.001\n",
       "Initial Error:26645642\n",
       "Best Error:None\n",
       "Target Error:10000\n",
       "Model ID:0\n",
       "Num Grads:2"
      ]
     },
     "execution_count": 24,
     "metadata": {},
     "output_type": "execute_result"
    }
   ],
   "source": [
    "repo[model_id]"
   ]
  },
  {
   "cell_type": "code",
   "execution_count": 25,
   "metadata": {
    "collapsed": true
   },
   "outputs": [],
   "source": [
    "new_error = repo[model_id].evaluate_gradient(cure_diabetes_inc,repo[model_id][0],prikey,pubkey,validation[0],validation[1])"
   ]
  },
  {
   "cell_type": "code",
   "execution_count": 26,
   "metadata": {},
   "outputs": [
    {
     "data": {
      "text/plain": [
       "26623238"
      ]
     },
     "execution_count": 26,
     "metadata": {},
     "output_type": "execute_result"
    }
   ],
   "source": [
    "new_error"
   ]
  },
  {
   "cell_type": "markdown",
   "metadata": {},
   "source": [
    "## Step 4: Rinse and Repeat"
   ]
  },
  {
   "cell_type": "code",
   "execution_count": 2,
   "metadata": {},
   "outputs": [
    {
     "ename": "NameError",
     "evalue": "name 'model' is not defined",
     "output_type": "error",
     "traceback": [
      "\u001b[0;31m---------------------------------------------------------------------------\u001b[0m",
      "\u001b[0;31mNameError\u001b[0m                                 Traceback (most recent call last)",
      "\u001b[0;32m<ipython-input-2-458d5f1afc81>\u001b[0m in \u001b[0;36m<module>\u001b[0;34m()\u001b[0m\n\u001b[0;32m----> 1\u001b[0;31m \u001b[0mmodel\u001b[0m\u001b[0;34m\u001b[0m\u001b[0m\n\u001b[0m",
      "\u001b[0;31mNameError\u001b[0m: name 'model' is not defined"
     ]
    }
   ],
   "source": [
    "model"
   ]
  },
  {
   "cell_type": "code",
   "execution_count": 1,
   "metadata": {},
   "outputs": [
    {
     "ename": "NameError",
     "evalue": "name 'anonymous_diabetics' is not defined",
     "output_type": "error",
     "traceback": [
      "\u001b[0;31m---------------------------------------------------------------------------\u001b[0m",
      "\u001b[0;31mNameError\u001b[0m                                 Traceback (most recent call last)",
      "\u001b[0;32m<ipython-input-1-ab25fdda83f5>\u001b[0m in \u001b[0;36m<module>\u001b[0;34m()\u001b[0m\n\u001b[0;32m----> 1\u001b[0;31m \u001b[0;32mfor\u001b[0m \u001b[0mi\u001b[0m\u001b[0;34m,\u001b[0m\u001b[0;34m(\u001b[0m\u001b[0maddr\u001b[0m\u001b[0;34m,\u001b[0m \u001b[0minput\u001b[0m\u001b[0;34m,\u001b[0m \u001b[0mtarget\u001b[0m\u001b[0;34m)\u001b[0m \u001b[0;32min\u001b[0m \u001b[0menumerate\u001b[0m\u001b[0;34m(\u001b[0m\u001b[0manonymous_diabetics\u001b[0m\u001b[0;34m)\u001b[0m\u001b[0;34m:\u001b[0m\u001b[0;34m\u001b[0m\u001b[0m\n\u001b[0m\u001b[1;32m      2\u001b[0m \u001b[0;34m\u001b[0m\u001b[0m\n\u001b[1;32m      3\u001b[0m         \u001b[0mmodel\u001b[0m \u001b[0;34m=\u001b[0m \u001b[0mrepo\u001b[0m\u001b[0;34m[\u001b[0m\u001b[0mmodel_id\u001b[0m\u001b[0;34m]\u001b[0m\u001b[0;34m\u001b[0m\u001b[0m\n\u001b[1;32m      4\u001b[0m         \u001b[0;31m# patient is doing this\u001b[0m\u001b[0;34m\u001b[0m\u001b[0;34m\u001b[0m\u001b[0m\n\u001b[1;32m      5\u001b[0m         \u001b[0mmodel\u001b[0m\u001b[0;34m.\u001b[0m\u001b[0msubmit_gradient\u001b[0m\u001b[0;34m(\u001b[0m\u001b[0maddr\u001b[0m\u001b[0;34m,\u001b[0m\u001b[0minput\u001b[0m\u001b[0;34m,\u001b[0m\u001b[0mtarget\u001b[0m\u001b[0;34m)\u001b[0m\u001b[0;34m\u001b[0m\u001b[0m\n",
      "\u001b[0;31mNameError\u001b[0m: name 'anonymous_diabetics' is not defined"
     ]
    }
   ],
   "source": [
    "for i,(addr, input, target) in enumerate(anonymous_diabetics):\n",
    "    try:\n",
    "        \n",
    "        model = repo[model_id]\n",
    "        \n",
    "        # patient is doing this\n",
    "        model.submit_gradient(addr,input,target)\n",
    "        \n",
    "        # Cure Diabetes Inc does this\n",
    "        new_error = model.evaluate_gradient(cure_diabetes_inc,model[i+1],prikey,pubkey,validation[0],validation[1],alpha=2)\n",
    "        print(new_error)\n",
    "    except:\n",
    "        \"Connection Reset\""
   ]
  },
  {
   "cell_type": "code",
   "execution_count": null,
   "metadata": {
    "collapsed": true
   },
   "outputs": [],
   "source": []
  }
 ],
 "metadata": {
  "kernelspec": {
   "display_name": "Python 3",
   "language": "python",
   "name": "python3"
  },
  "language_info": {
   "codemirror_mode": {
    "name": "ipython",
    "version": 3
   },
   "file_extension": ".py",
   "mimetype": "text/x-python",
   "name": "python",
   "nbconvert_exporter": "python",
   "pygments_lexer": "ipython3",
   "version": "3.6.1"
  }
 },
 "nbformat": 4,
 "nbformat_minor": 2
}
