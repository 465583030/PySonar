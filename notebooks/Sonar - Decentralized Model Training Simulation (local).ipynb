{
 "cells": [
  {
   "cell_type": "code",
   "execution_count": 3,
   "metadata": {
    "collapsed": true
   },
   "outputs": [],
   "source": [
    "import textwrap,json,zlib,copy,pickle,math,codecs\n",
    "import multihash,ipfsapi\n",
    "from solc import compile_source, compile_files, link_code\n",
    "from web3 import Web3, KeepAliveRPCProvider\n",
    "from os.path import isfile, join\n",
    "from os import listdir\n",
    "import numpy as np\n",
    "import phe as paillier"
   ]
  },
  {
   "cell_type": "code",
   "execution_count": 5,
   "metadata": {
    "collapsed": true
   },
   "outputs": [],
   "source": [
    "class ModelMine():\n",
    "    \n",
    "    def __init__(self,account=None,deploy_txn=None,web3_port=8545,ipfs_port=5001):\n",
    "        \n",
    "        self.deploy_txn = deploy_txn\n",
    "        self.web3 = Web3(KeepAliveRPCProvider(host='localhost', port=str(web3_port)))\n",
    "        self.ipfs = ipfsapi.connect('127.0.0.1', int(ipfs_port))\n",
    "        \n",
    "        self.compile_and_deploy()\n",
    "        if(account is not None):\n",
    "            self.account = account\n",
    "        else:\n",
    "            print(\"No account submitted... using default[2]\")\n",
    "            self.account = self.web3.eth.accounts[2]\n",
    "            \n",
    "    def compile_and_deploy(self,directory='contracts/'):\n",
    "        \n",
    "        f = open('../contracts/ModelMine.sol','r')\n",
    "        source = f.read()\n",
    "        f.close()\n",
    "        \n",
    "        compiled = compile_source(source)['<stdin>:ModelMine']\n",
    "\n",
    "        contract = self.web3.eth.contract(\n",
    "            abi = compiled['abi'],\n",
    "            bytecode = compiled['bin'],\n",
    "            bytecode_runtime = compiled['bin-runtime'],\n",
    "            source = source,\n",
    "            )\n",
    "        \n",
    "        if(self.deploy_txn is None):\n",
    "            self.deploy_txn = contract.deploy()\n",
    "        txn_receipt = self.web3.eth.getTransactionReceipt(self.deploy_txn)\n",
    "        contract_address = txn_receipt['contractAddress']\n",
    "\n",
    "        self.transact = contract.transact({\n",
    "            \"from\":self.web3.eth.accounts[2],\n",
    "            \"to\":contract_address,\n",
    "            })\n",
    "\n",
    "        self.call = contract.call({\n",
    "            \"from\":self.web3.eth.accounts[2],\n",
    "            \"to\":contract_address,\n",
    "            })\n",
    "        \n",
    "        return self.deploy_txn\n",
    "\n",
    "    \n",
    "    def submit_model(self,model):\n",
    "        ipfs_address = self.ipfs.add_pyobj(model)\n",
    "        deploy_trans = self.transact.addModel([ipfs_address[0:32],ipfs_address[32:]])\n",
    "        return self.call.getNumModels()-1\n",
    "    \n",
    "    def __getitem__(self,model_id):\n",
    "        if(model_id < len(self)):\n",
    "            mca = self.call.getModel(model_id)\n",
    "            model_client = self.ipfs.get_pyobj(str(mca[0]+mca[1]).split(\"\\x00\")[0])\n",
    "            return model_client\n",
    "    \n",
    "    def __len__(self):\n",
    "        return self.call.getNumModels()"
   ]
  },
  {
   "cell_type": "code",
   "execution_count": 6,
   "metadata": {},
   "outputs": [
    {
     "name": "stdout",
     "output_type": "stream",
     "text": [
      "No account submitted... using default[2]\n"
     ]
    }
   ],
   "source": [
    "mine = ModelMine()"
   ]
  },
  {
   "cell_type": "code",
   "execution_count": 7,
   "metadata": {
    "collapsed": true
   },
   "outputs": [],
   "source": [
    "from syft.he.paillier import KeyPair\n",
    "from syft.nn.linear import LinearClassifier\n",
    "import numpy as np"
   ]
  },
  {
   "cell_type": "code",
   "execution_count": 8,
   "metadata": {
    "collapsed": true
   },
   "outputs": [],
   "source": [
    "pubkey,prikey = KeyPair().generate(n_length=1024)"
   ]
  },
  {
   "cell_type": "code",
   "execution_count": 9,
   "metadata": {
    "collapsed": true
   },
   "outputs": [],
   "source": [
    "model = LinearClassifier(n_inputs=4,n_labels=2).encrypt(pubkey)"
   ]
  },
  {
   "cell_type": "code",
   "execution_count": null,
   "metadata": {
    "collapsed": true
   },
   "outputs": [],
   "source": []
  }
 ],
 "metadata": {
  "kernelspec": {
   "display_name": "Python 3",
   "language": "python",
   "name": "python3"
  },
  "language_info": {
   "codemirror_mode": {
    "name": "ipython",
    "version": 3
   },
   "file_extension": ".py",
   "mimetype": "text/x-python",
   "name": "python",
   "nbconvert_exporter": "python",
   "pygments_lexer": "ipython3",
   "version": "3.6.1"
  }
 },
 "nbformat": 4,
 "nbformat_minor": 2
}
