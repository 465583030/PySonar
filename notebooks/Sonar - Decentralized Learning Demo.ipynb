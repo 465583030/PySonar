{
 "cells": [
  {
   "cell_type": "markdown",
   "metadata": {},
   "source": [
    "# Sonar - Decentralized Model Training Simulation (local)\n",
    "\n",
    "DISCLAIMER: This is a proof-of-concept implementation. It does not represent a remotely product ready implementation or follow proper conventions for security, convenience, or scalability. It is part of a broader proof-of-concept demonstrating the vision of the OpenMined project, its major moving parts, and how they might work together.\n"
   ]
  },
  {
   "cell_type": "markdown",
   "metadata": {},
   "source": [
    "# Getting Started: Installation\n",
    "\n",
    "##### Step 1: install IPFS\n",
    "\n",
    "- https://ipfs.io/docs/install/\n",
    "\n",
    "##### Step 2: Turn on IPFS Daemon\n",
    "Execute on command line:\n",
    "> ipfs daemon\n",
    "\n",
    "##### Step 3: Install Ethereum testrpc\n",
    "\n",
    "- https://github.com/ethereumjs/testrpc\n",
    "\n",
    "##### Step 4: Turn on testrpc with 1000 initialized accounts (each with some money)\n",
    "Execute on command line:\n",
    "> testrpc -a 1000\n",
    "\n",
    "##### Step 5: install openmined/sonar and all dependencies (truffle)\n",
    "\n",
    "##### Step 6: Locally Deploy Smart Contracts in openmined/sonar\n",
    "From the OpenMined/Sonar repository root run\n",
    "> truffle compile\n",
    "> truffle migrate\n",
    "\n",
    "you should see something like this when you run migrate:\n",
    "```\n",
    "Using network 'development'.\n",
    "\n",
    "Running migration: 1_initial_migration.js\n",
    "  Deploying Migrations...\n",
    "  Migrations: 0xf06039885460a42dcc8db5b285bb925c55fbaeae\n",
    "Saving successful migration to network...\n",
    "Saving artifacts...\n",
    "Running migration: 2_deploy_contracts.js\n",
    "  Deploying ConvertLib...\n",
    "  ConvertLib: 0x6cc86f0a80180a491f66687243376fde45459436\n",
    "  Deploying ModelRepository...\n",
    "  ModelRepository: 0xe26d32efe1c573c9f81d68aa823dcf5ff3356946\n",
    "  Linking ConvertLib to MetaCoin\n",
    "  Deploying MetaCoin...\n",
    "  MetaCoin: 0x6d3692bb28afa0eb37d364c4a5278807801a95c5\n",
    "```\n",
    "\n",
    "The address after 'ModelRepository' is something you'll need to copy paste into the code\n",
    "below when you initialize the \"ModelRepository\" object. In this case the address to be\n",
    "copy pasted is `0xe26d32efe1c573c9f81d68aa823dcf5ff3356946`.\n",
    "\n",
    "##### Step 7: execute the following code"
   ]
  },
  {
   "cell_type": "markdown",
   "metadata": {},
   "source": [
    "# The Simulation: Diabetes Prediction"
   ]
  },
  {
   "cell_type": "markdown",
   "metadata": {},
   "source": [
    "In this example, a diabetes research center (Cure Diabetes Inc) wants to train a model to try to predict the progression of diabetes based on several indicators. They have collected a small sample (42 patients) of data but it's not enough to train a model. So, they intend to offer up a bounty of $5,000 to the OpenMined commmunity to train a high quality model.\n",
    "\n",
    "As it turns out, there are 400 diabetics in the network who are candidates for the model (are collecting the relevant fields). In this simulation, we're going to faciliate the training of Cure Diabetes Inc incentivizing these 400 anonymous contributors to train the model using the Ethereum blockchain.\n",
    "\n",
    "Note, in this simulation we're only going to use the sonar and syft packages (and everything is going to be deployed locally on a test blockchain). Future simulations will incorporate mine and capsule for greater anonymity and automation."
   ]
  },
  {
   "cell_type": "markdown",
   "metadata": {},
   "source": [
    "### Imports and Convenience Functions"
   ]
  },
  {
   "cell_type": "code",
   "execution_count": 1,
   "metadata": {},
   "outputs": [],
   "source": [
    "import warnings\n",
    "import numpy as np\n",
    "import phe as paillier\n",
    "from sonar.contracts import ModelRepository,Model\n",
    "from sonar.ipfs import IPFS\n",
    "from syft.he.paillier.keys import KeyPair\n",
    "from syft.nn.linear import LinearClassifier\n",
    "from sklearn.datasets import load_diabetes\n",
    "\n",
    "def get_balance(account):\n",
    "    return repo.web3.fromWei(repo.web3.eth.getBalance(account),'ether')\n",
    "\n",
    "warnings.filterwarnings('ignore')"
   ]
  },
  {
   "cell_type": "markdown",
   "metadata": {},
   "source": [
    "### Setting up the Experiment"
   ]
  },
  {
   "cell_type": "code",
   "execution_count": 12,
   "metadata": {},
   "outputs": [
    {
     "name": "stdout",
     "output_type": "stream",
     "text": [
      "Connected to OpenMined ModelRepository:0xf0DE3D665D777d12609D0524c89C6456A6658E5E\n"
     ]
    }
   ],
   "source": [
    "# for the purpose of the simulation, we're going to split our dataset up amongst\n",
    "# the relevant simulated users\n",
    "\n",
    "diabetes = load_diabetes()\n",
    "y = diabetes.target\n",
    "X = diabetes.data\n",
    "\n",
    "validation = (X[0:5],y[0:5])\n",
    "anonymous_diabetes_users = (X[6:],y[6:])\n",
    "\n",
    "# we're also going to initialize the model trainer smart contract, which in the\n",
    "# real world would already be on the blockchain (managing other contracts) before\n",
    "# the simulation begins\n",
    "\n",
    "andreas_repo = '0xd60e1a150b59a89a8e6e6ff2c03ffb6cb4096205'\n",
    "stefan_repo = '0xf0DE3D665D777d12609D0524c89C6456A6658E5E'\n",
    "\n",
    "my_wallet_address = '0xc6E1D4501D3f354E89F048F096db4424168682a9'\n",
    "\n",
    "# ATTENTION: copy paste the correct address (NOT THE DEFAULT SEEN HERE) from truffle migrate output.\n",
    "repo = ModelRepository(stefan_repo, account=my_wallet_address,ipfs=IPFS(host='127.0.0.1'), web3_host='localhost') # blockchain hosted model repository\n"
   ]
  },
  {
   "cell_type": "markdown",
   "metadata": {},
   "source": [
    "## Step 1: Cure Diabetes Inc Initializes a Model and Provides a Bounty"
   ]
  },
  {
   "cell_type": "code",
   "execution_count": 14,
   "metadata": {},
   "outputs": [],
   "source": [
    "pubkey,prikey = KeyPair().generate(n_length=1024)\n",
    "diabetes_classifier = LinearClassifier(desc=\"DiabetesClassifier\",n_inputs=10,n_labels=1)"
   ]
  },
  {
   "cell_type": "code",
   "execution_count": 15,
   "metadata": {},
   "outputs": [],
   "source": [
    "initial_error = diabetes_classifier.evaluate(validation[0],validation[1])"
   ]
  },
  {
   "cell_type": "code",
   "execution_count": 16,
   "metadata": {},
   "outputs": [
    {
     "data": {
      "text/plain": [
       "Linear Model (10,1): DiabetesClassifier"
      ]
     },
     "execution_count": 16,
     "metadata": {},
     "output_type": "execute_result"
    }
   ],
   "source": [
    "diabetes_classifier.encrypt(pubkey)"
   ]
  },
  {
   "cell_type": "code",
   "execution_count": 17,
   "metadata": {},
   "outputs": [],
   "source": [
    "diabetes_model = Model(owner='0xc6E1D4501D3f354E89F048F096db4424168682a9',\n",
    "                       syft_obj = diabetes_classifier,\n",
    "                       bounty = 0.00000000001,\n",
    "                       initial_error = initial_error,\n",
    "                       target_error = 10000\n",
    "                      )"
   ]
  },
  {
   "cell_type": "code",
   "execution_count": 18,
   "metadata": {},
   "outputs": [],
   "source": [
    "model_id = repo.submit_model(diabetes_model)"
   ]
  },
  {
   "cell_type": "markdown",
   "metadata": {},
   "source": [
    "## Step 2: An Anonymous Patient Downloads the Model and Improves It"
   ]
  },
  {
   "cell_type": "code",
   "execution_count": 19,
   "metadata": {},
   "outputs": [],
   "source": [
    "model = repo[0]"
   ]
  },
  {
   "cell_type": "code",
   "execution_count": 32,
   "metadata": {},
   "outputs": [],
   "source": [
    "repo[model_id].submit_gradient(my_wallet_address,anonymous_diabetes_users[0][0],anonymous_diabetes_users[0][0])"
   ]
  },
  {
   "cell_type": "markdown",
   "metadata": {},
   "source": [
    "## Step 3: Cure Diabetes Inc. Evaluates the Gradient "
   ]
  },
  {
   "cell_type": "code",
   "execution_count": 33,
   "metadata": {},
   "outputs": [
    {
     "data": {
      "text/plain": [
       "Desc:DiabetesClassifier\n",
       "Owner:0xc6e1d4501d3f354e89f048f096db4424168682a9\n",
       "Bounty:9.999999E-12\n",
       "Initial Error:21805051\n",
       "Best Error:None\n",
       "Target Error:10000\n",
       "Model ID:0\n",
       "Num Grads:0"
      ]
     },
     "execution_count": 33,
     "metadata": {},
     "output_type": "execute_result"
    }
   ],
   "source": [
    "repo[0]"
   ]
  },
  {
   "cell_type": "code",
   "execution_count": 35,
   "metadata": {},
   "outputs": [
    {
     "name": "stdout",
     "output_type": "stream",
     "text": [
      "3.817941886790000011\n"
     ]
    }
   ],
   "source": [
    "old_balance = get_balance(my_wallet_address)\n",
    "print(old_balance)"
   ]
  },
  {
   "cell_type": "code",
   "execution_count": 40,
   "metadata": {},
   "outputs": [],
   "source": [
    "model = repo[0]"
   ]
  },
  {
   "cell_type": "code",
   "execution_count": 38,
   "metadata": {},
   "outputs": [
    {
     "ename": "TypeError",
     "evalue": "retrieve() missing 1 required positional argument: 'ipfs_hash'",
     "output_type": "error",
     "traceback": [
      "\u001b[0;31m---------------------------------------------------------------------------\u001b[0m",
      "\u001b[0;31mTypeError\u001b[0m                                 Traceback (most recent call last)",
      "\u001b[0;32m<ipython-input-38-47e436b4fb8f>\u001b[0m in \u001b[0;36m<module>\u001b[0;34m()\u001b[0m\n\u001b[0;32m----> 1\u001b[0;31m \u001b[0mrepo\u001b[0m\u001b[0;34m.\u001b[0m\u001b[0mipfs\u001b[0m\u001b[0;34m.\u001b[0m\u001b[0mretrieve\u001b[0m\u001b[0;34m(\u001b[0m\u001b[0;34m)\u001b[0m\u001b[0;34m\u001b[0m\u001b[0m\n\u001b[0m",
      "\u001b[0;31mTypeError\u001b[0m: retrieve() missing 1 required positional argument: 'ipfs_hash'"
     ]
    }
   ],
   "source": []
  },
  {
   "cell_type": "code",
   "execution_count": 41,
   "metadata": {},
   "outputs": [
    {
     "ename": "AttributeError",
     "evalue": "'IPFS' object has no attribute 'get_pyobj'",
     "output_type": "error",
     "traceback": [
      "\u001b[0;31m---------------------------------------------------------------------------\u001b[0m",
      "\u001b[0;31mAttributeError\u001b[0m                            Traceback (most recent call last)",
      "\u001b[0;32m<ipython-input-41-4964d34250e5>\u001b[0m in \u001b[0;36m<module>\u001b[0;34m()\u001b[0m\n\u001b[0;32m----> 1\u001b[0;31m \u001b[0mnew_error\u001b[0m \u001b[0;34m=\u001b[0m \u001b[0mmodel\u001b[0m\u001b[0;34m.\u001b[0m\u001b[0mevaluate_gradient\u001b[0m\u001b[0;34m(\u001b[0m\u001b[0mmy_wallet_address\u001b[0m\u001b[0;34m,\u001b[0m\u001b[0mrepo\u001b[0m\u001b[0;34m[\u001b[0m\u001b[0mmodel_id\u001b[0m\u001b[0;34m]\u001b[0m\u001b[0;34m[\u001b[0m\u001b[0;36m0\u001b[0m\u001b[0;34m]\u001b[0m\u001b[0;34m,\u001b[0m\u001b[0mprikey\u001b[0m\u001b[0;34m,\u001b[0m\u001b[0mpubkey\u001b[0m\u001b[0;34m,\u001b[0m\u001b[0mvalidation\u001b[0m\u001b[0;34m[\u001b[0m\u001b[0;36m0\u001b[0m\u001b[0;34m]\u001b[0m\u001b[0;34m,\u001b[0m\u001b[0mvalidation\u001b[0m\u001b[0;34m[\u001b[0m\u001b[0;36m1\u001b[0m\u001b[0;34m]\u001b[0m\u001b[0;34m)\u001b[0m\u001b[0;34m\u001b[0m\u001b[0m\n\u001b[0m",
      "\u001b[0;32m/usr/local/lib/python3.5/dist-packages/sonar-0.1.0-py3.5.egg/sonar/contracts.py\u001b[0m in \u001b[0;36m__getitem__\u001b[0;34m(self, gradient_id)\u001b[0m\n\u001b[1;32m     33\u001b[0m          nwa) = self.repo.call.getGradient(self.model_id, gradient_id)\n\u001b[1;32m     34\u001b[0m         \u001b[0mgrad_values\u001b[0m \u001b[0;34m=\u001b[0m\u001b[0;31m \u001b[0m\u001b[0;31m\\\u001b[0m\u001b[0;34m\u001b[0m\u001b[0m\n\u001b[0;32m---> 35\u001b[0;31m             \u001b[0mself\u001b[0m\u001b[0;34m.\u001b[0m\u001b[0mrepo\u001b[0m\u001b[0;34m.\u001b[0m\u001b[0mipfs\u001b[0m\u001b[0;34m.\u001b[0m\u001b[0mget_pyobj\u001b[0m\u001b[0;34m(\u001b[0m\u001b[0mIPFSAddress\u001b[0m\u001b[0;34m(\u001b[0m\u001b[0;34m)\u001b[0m\u001b[0;34m.\u001b[0m\u001b[0mfrom_ethereum\u001b[0m\u001b[0;34m(\u001b[0m\u001b[0mmca\u001b[0m\u001b[0;34m)\u001b[0m\u001b[0;34m)\u001b[0m\u001b[0;34m\u001b[0m\u001b[0m\n\u001b[0m\u001b[1;32m     36\u001b[0m         \u001b[0;32mif\u001b[0m\u001b[0;34m(\u001b[0m\u001b[0mnew_model_error\u001b[0m \u001b[0;34m!=\u001b[0m \u001b[0;36m0\u001b[0m\u001b[0;34m)\u001b[0m\u001b[0;34m:\u001b[0m\u001b[0;34m\u001b[0m\u001b[0m\n\u001b[1;32m     37\u001b[0m             \u001b[0mnew_weights\u001b[0m \u001b[0;34m=\u001b[0m\u001b[0;31m \u001b[0m\u001b[0;31m\\\u001b[0m\u001b[0;34m\u001b[0m\u001b[0m\n",
      "\u001b[0;31mAttributeError\u001b[0m: 'IPFS' object has no attribute 'get_pyobj'"
     ]
    }
   ],
   "source": [
    "new_error = model.evaluate_gradient(my_wallet_address,repo[model_id][0],prikey,pubkey,validation[0],validation[1])"
   ]
  },
  {
   "cell_type": "code",
   "execution_count": 15,
   "metadata": {},
   "outputs": [
    {
     "data": {
      "text/plain": [
       "21739961"
      ]
     },
     "execution_count": 15,
     "metadata": {},
     "output_type": "execute_result"
    }
   ],
   "source": [
    "new_error"
   ]
  },
  {
   "cell_type": "code",
   "execution_count": 16,
   "metadata": {},
   "outputs": [
    {
     "name": "stdout",
     "output_type": "stream",
     "text": [
      "0.002461227149139725\n"
     ]
    }
   ],
   "source": [
    "new_balance = get_balance(diabetic_address)\n",
    "incentive = new_balance - old_balance\n",
    "print(incentive)"
   ]
  },
  {
   "cell_type": "markdown",
   "metadata": {},
   "source": [
    "## Step 4: Rinse and Repeat"
   ]
  },
  {
   "cell_type": "code",
   "execution_count": 19,
   "metadata": {},
   "outputs": [
    {
     "data": {
      "text/plain": [
       "Desc:DiabetesClassifier\n",
       "Owner:0xeddf96ff03e9d7883263c73ad75d1fd68583a398\n",
       "Bounty:1\n",
       "Initial Error:21793600\n",
       "Best Error:None\n",
       "Target Error:10000\n",
       "Model ID:0\n",
       "Num Grads:7"
      ]
     },
     "execution_count": 19,
     "metadata": {},
     "output_type": "execute_result"
    }
   ],
   "source": [
    "model"
   ]
  },
  {
   "cell_type": "code",
   "execution_count": 18,
   "metadata": {},
   "outputs": [
    {
     "name": "stdout",
     "output_type": "stream",
     "text": [
      "new error = 21637218\n",
      "incentive = 0.00473\n",
      "new error = 21749031\n",
      "incentive = 0.00000\n",
      "new error = 21594788\n",
      "incentive = 0.00196\n"
     ]
    }
   ],
   "source": [
    "for i,(addr, input, target) in enumerate(anonymous_diabetics):\n",
    "    try:\n",
    "        \n",
    "        model = repo[model_id]\n",
    "        \n",
    "        # patient is doing this\n",
    "        model.submit_gradient(addr,input,target)\n",
    "        \n",
    "        # Cure Diabetes Inc does this\n",
    "        old_balance = get_balance(addr)\n",
    "        new_error = model.evaluate_gradient(cure_diabetes_inc,model[i+1],prikey,pubkey,validation[0],validation[1],alpha=2)\n",
    "        print(\"new error = \"+str(new_error))\n",
    "        incentive = round(get_balance(addr) - old_balance,5)\n",
    "        print(\"incentive = \"+str(incentive))\n",
    "    except:\n",
    "        \"Connection Reset\""
   ]
  },
  {
   "cell_type": "code",
   "execution_count": null,
   "metadata": {
    "collapsed": true
   },
   "outputs": [],
   "source": []
  }
 ],
 "metadata": {
  "kernelspec": {
   "display_name": "Python 3",
   "language": "python",
   "name": "python3"
  },
  "language_info": {
   "codemirror_mode": {
    "name": "ipython",
    "version": 3
   },
   "file_extension": ".py",
   "mimetype": "text/x-python",
   "name": "python",
   "nbconvert_exporter": "python",
   "pygments_lexer": "ipython3",
   "version": "3.5.2"
  }
 },
 "nbformat": 4,
 "nbformat_minor": 2
}
