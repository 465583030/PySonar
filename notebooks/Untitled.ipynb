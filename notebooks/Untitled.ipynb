{
 "cells": [
  {
   "cell_type": "code",
   "execution_count": 1,
   "metadata": {},
   "outputs": [],
   "source": [
    "from syft.he.paillier import PaillierTensor\n",
    "from syft.tensor import TensorBase\n",
    "from syft.he.paillier.keys import KeyPair\n",
    "\n",
    "import numpy as np\n",
    "\n",
    "\n",
    "class LinearClassifier():\n",
    "    \"\"\"This class is a basic linear classifier with functionality to\n",
    "    encrypt/decrypt weights according to any of the homomorphic encryption\n",
    "    schemes in syft.he. It also contains the logic to make predictions when\n",
    "    in an encrypted state.\n",
    "\n",
    "    TODO: create a generic interface for ML models that this class implements.\n",
    "\n",
    "    TODO: minibatching in the \"learn\" API. The greater the batch size, the more\n",
    "    iterations should be doable before the homomorphic encryption noise grows\n",
    "    too much to be decrypted.\n",
    "    \"\"\"\n",
    "\n",
    "    def __init__(self, n_inputs=4, n_labels=2, desc=\"\"):\n",
    "\n",
    "        self.desc = desc\n",
    "\n",
    "        self.n_inputs = n_inputs\n",
    "        self.n_labels = n_labels\n",
    "\n",
    "        self.weights = TensorBase(np.zeros((n_inputs,n_labels)))\n",
    "\n",
    "        self.pubkey = None\n",
    "        self.encrypted = False\n",
    "        \n",
    "    def encrypt(self, pubkey):\n",
    "        \"\"\"iterates through each weight and encrypts it\n",
    "\n",
    "        TODO: check that weights are actually decrypted\n",
    "\n",
    "        \"\"\"\n",
    "\n",
    "        self.encrypted = True\n",
    "        self.pubkey = pubkey\n",
    "        self.weights = self.weights.encrypt(pubkey)\n",
    "        return self\n",
    "    \n",
    "    def decrypt(self, seckey):\n",
    "        \"\"\"iterates through each weight and decrypts it\n",
    "\n",
    "        TODO: check that weights are actually encrypted\n",
    "\n",
    "        \"\"\"\n",
    "        self.encrypted = False\n",
    "        self.weights = self.weights.decrypt(prikey)\n",
    "        return self\n",
    "    \n",
    "    def forward(self, input):\n",
    "\n",
    "        \"\"\"Makes a prediction based on input. If the network is encrypted, the\n",
    "        prediction is also encrypted and vise versa.\"\"\"\n",
    "\n",
    "        pred = self.weights[0] * input[0]\n",
    "        for j, each_inp in enumerate(input[1:]):\n",
    "            if(each_inp == 1):\n",
    "                pred = pred + self.weights[j + 1]\n",
    "            elif(each_inp != 0):\n",
    "                pred = pred + (self.weights[j + 1] * input[j + 1])\n",
    "\n",
    "        return pred\n",
    "    \n",
    "    \n",
    "    \n",
    "    def learn(self, input, target, alpha=0.5):\n",
    "        \"\"\"Updates weights based on input and target prediction. Note, updating\n",
    "        weights increases the noise in the encrypted weights and will\n",
    "        eventually require the weights to be re-encrypted.\n",
    "\n",
    "        TODO: minibatching\n",
    "        TODO: instead of storing weights, store aggregated weight updates (and\n",
    "        optionally use them in \"forward\").\n",
    "\n",
    "        \"\"\"\n",
    "\n",
    "        weight_update = self.generate_gradient(input, target)\n",
    "        self.weights -= weight_update * alpha\n",
    "\n",
    "        return weight_update\n",
    "\n",
    "    def evaluate(self, inputs, targets):\n",
    "        \"\"\"accepts a list of inputs and a list of targets - returns the mean\n",
    "        squared error scaled by a fixed amount and converted to an integer.\"\"\"\n",
    "\n",
    "        scale = 1000\n",
    "\n",
    "        if(self.encrypted):\n",
    "            return \"not yet supported... but will in the future\"\n",
    "        else:\n",
    "\n",
    "            loss = 0\n",
    "            for i, row in enumerate(inputs):\n",
    "                pred = self.forward(row)\n",
    "                true = targets[i]\n",
    "                loss += (pred - true)**2\n",
    "            return int((loss[0] * scale) / float(len(inputs)))\n",
    "\n",
    "    def __str__(self):\n",
    "        left = \"Linear Model (\" + str(self.n_inputs) + \",\"\n",
    "        return left + str(self.n_labels) + \"): \" + str(self.desc)\n",
    "\n",
    "    def __repr__(self):\n",
    "        return self.__str__()\n",
    "    \n",
    "    def generate_gradient(self, input, target):\n",
    "        target = TensorBase(np.array(target).astype('float64'))\n",
    "        pred = self.forward(input)\n",
    "\n",
    "        target_v = target\n",
    "\n",
    "        if(self.pubkey is not None and self.encrypted):\n",
    "            target_v = self.pubkey.encrypt(target_v)\n",
    "\n",
    "        output_grad = (pred - target_v)\n",
    "\n",
    "        weight_grad = TensorBase(np.zeros_like(self.weights.data))\n",
    "\n",
    "        if(self.encrypted):\n",
    "            weight_grad = weight_grad.encrypt(self.pubkey)\n",
    "\n",
    "        for i in range(len(input)):\n",
    "            if(input[i] != 1 and input[i] != 0):\n",
    "                weight_grad[i] += (output_grad * input[i])\n",
    "            elif(input[i] == 1):\n",
    "                weight_grad[i] += output_grad[0]\n",
    "            else:\n",
    "                \"doesn't matter... input == 0\"\n",
    "\n",
    "        return weight_grad"
   ]
  },
  {
   "cell_type": "code",
   "execution_count": null,
   "metadata": {
    "collapsed": true
   },
   "outputs": [],
   "source": []
  },
  {
   "cell_type": "code",
   "execution_count": 2,
   "metadata": {},
   "outputs": [],
   "source": [
    "pubkey,prikey = KeyPair().generate(n_length=1024)"
   ]
  },
  {
   "cell_type": "code",
   "execution_count": 9,
   "metadata": {},
   "outputs": [],
   "source": [
    "lc = LinearClassifier(10,1)#.encrypt(pubkey)"
   ]
  },
  {
   "cell_type": "code",
   "execution_count": 13,
   "metadata": {},
   "outputs": [
    {
     "data": {
      "text/plain": [
       "array([[ 0.],\n",
       "       [ 0.],\n",
       "       [ 0.],\n",
       "       [ 0.],\n",
       "       [ 0.],\n",
       "       [ 0.],\n",
       "       [ 0.],\n",
       "       [ 0.],\n",
       "       [ 0.],\n",
       "       [ 0.]])"
      ]
     },
     "execution_count": 13,
     "metadata": {},
     "output_type": "execute_result"
    }
   ],
   "source": [
    "lc.weights.to_numpy()"
   ]
  },
  {
   "cell_type": "code",
   "execution_count": 17,
   "metadata": {},
   "outputs": [],
   "source": [
    "grad = lc.generate_gradient(TensorBase(np.ones(10)),0.5)"
   ]
  },
  {
   "cell_type": "code",
   "execution_count": 18,
   "metadata": {},
   "outputs": [
    {
     "data": {
      "text/plain": [
       "array([[e],\n",
       "       [e],\n",
       "       [e],\n",
       "       [e],\n",
       "       [e],\n",
       "       [e],\n",
       "       [e],\n",
       "       [e],\n",
       "       [e],\n",
       "       [e]], dtype=object)"
      ]
     },
     "execution_count": 18,
     "metadata": {},
     "output_type": "execute_result"
    }
   ],
   "source": [
    "grad"
   ]
  },
  {
   "cell_type": "code",
   "execution_count": null,
   "metadata": {
    "collapsed": true
   },
   "outputs": [],
   "source": []
  },
  {
   "cell_type": "code",
   "execution_count": 1,
   "metadata": {
    "collapsed": true
   },
   "outputs": [],
   "source": [
    "\n",
    "\n",
    "\n",
    "\n",
    "\n",
    "\n",
    "    \n",
    "\n",
    "\n",
    "\n",
    "    \n"
   ]
  },
  {
   "cell_type": "code",
   "execution_count": null,
   "metadata": {
    "collapsed": true
   },
   "outputs": [],
   "source": []
  }
 ],
 "metadata": {
  "kernelspec": {
   "display_name": "Python 3",
   "language": "python",
   "name": "python3"
  },
  "language_info": {
   "codemirror_mode": {
    "name": "ipython",
    "version": 3
   },
   "file_extension": ".py",
   "mimetype": "text/x-python",
   "name": "python",
   "nbconvert_exporter": "python",
   "pygments_lexer": "ipython3",
   "version": "3.6.1"
  }
 },
 "nbformat": 4,
 "nbformat_minor": 2
}
